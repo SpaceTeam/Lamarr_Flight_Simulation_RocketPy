{
 "cells": [
  {
   "cell_type": "markdown",
   "metadata": {
    "id": "2c4MhlfosJZ7"
   },
   "source": [
    "# **Simulation Hedy 2025**"
   ]
  },
  {
   "cell_type": "markdown",
   "metadata": {
    "id": "dwiOjcq-8R6D"
   },
   "source": [
    "Team: TU Wien Space Team \\\n",
    "Project: Lamarr \\\n",
    "Rocket: Hedy \\\n"
   ]
  },
  {
   "cell_type": "markdown",
   "metadata": {
    "id": "sOgJJtoysRTd"
   },
   "source": [
    "## Installs"
   ]
  },
  {
   "cell_type": "markdown",
   "metadata": {
    "id": "fd6BF59NBZeZ"
   },
   "source": [
    "In this section all needed libraries are installed and the needed classes imported"
   ]
  },
  {
   "cell_type": "code",
   "execution_count": 2,
   "metadata": {
    "colab": {
     "base_uri": "https://localhost:8080/"
    },
    "executionInfo": {
     "elapsed": 98886,
     "status": "ok",
     "timestamp": 1739725650035,
     "user": {
      "displayName": "Diego Grünberger",
      "userId": "05610014897733337197"
     },
     "user_tz": -60
    },
    "id": "DH5AIPNg2tzs",
    "outputId": "b5f90eae-c56f-461f-ea7d-70b7456980bf"
   },
   "outputs": [
    {
     "name": "stdout",
     "output_type": "stream",
     "text": [
      "Requirement already satisfied: netCDF4 in ./.venv/lib/python3.12/site-packages (1.7.2)\n",
      "Requirement already satisfied: cftime in ./.venv/lib/python3.12/site-packages (from netCDF4) (1.6.4.post1)\n",
      "Requirement already satisfied: certifi in ./.venv/lib/python3.12/site-packages (from netCDF4) (2025.1.31)\n",
      "Requirement already satisfied: numpy in ./.venv/lib/python3.12/site-packages (from netCDF4) (2.2.3)\n",
      "Note: you may need to restart the kernel to use updated packages.\n"
     ]
    }
   ],
   "source": [
    "pip install netCDF4"
   ]
  },
  {
   "cell_type": "code",
   "execution_count": 3,
   "metadata": {
    "colab": {
     "base_uri": "https://localhost:8080/"
    },
    "executionInfo": {
     "elapsed": 8953,
     "status": "ok",
     "timestamp": 1739725658984,
     "user": {
      "displayName": "Diego Grünberger",
      "userId": "05610014897733337197"
     },
     "user_tz": -60
    },
    "id": "8dhC6GZ1h9pH",
    "outputId": "b44abcfe-e054-499d-a5b4-d07e6a116e43"
   },
   "outputs": [
    {
     "name": "stdout",
     "output_type": "stream",
     "text": [
      "Requirement already satisfied: rocketpy in ./.venv/lib/python3.12/site-packages (1.8.0)\n",
      "Requirement already satisfied: numpy>=1.13 in ./.venv/lib/python3.12/site-packages (from rocketpy) (2.2.3)\n",
      "Requirement already satisfied: scipy>=1.0 in ./.venv/lib/python3.12/site-packages (from rocketpy) (1.15.2)\n",
      "Requirement already satisfied: matplotlib>=3.0 in ./.venv/lib/python3.12/site-packages (from rocketpy) (3.10.1)\n",
      "Requirement already satisfied: netCDF4>=1.6.4 in ./.venv/lib/python3.12/site-packages (from rocketpy) (1.7.2)\n",
      "Requirement already satisfied: requests in ./.venv/lib/python3.12/site-packages (from rocketpy) (2.32.3)\n",
      "Requirement already satisfied: pytz in ./.venv/lib/python3.12/site-packages (from rocketpy) (2025.1)\n",
      "Requirement already satisfied: simplekml in ./.venv/lib/python3.12/site-packages (from rocketpy) (1.3.6)\n",
      "Requirement already satisfied: dill in ./.venv/lib/python3.12/site-packages (from rocketpy) (0.3.9)\n",
      "Requirement already satisfied: contourpy>=1.0.1 in ./.venv/lib/python3.12/site-packages (from matplotlib>=3.0->rocketpy) (1.3.1)\n",
      "Requirement already satisfied: cycler>=0.10 in ./.venv/lib/python3.12/site-packages (from matplotlib>=3.0->rocketpy) (0.12.1)\n",
      "Requirement already satisfied: fonttools>=4.22.0 in ./.venv/lib/python3.12/site-packages (from matplotlib>=3.0->rocketpy) (4.56.0)\n",
      "Requirement already satisfied: kiwisolver>=1.3.1 in ./.venv/lib/python3.12/site-packages (from matplotlib>=3.0->rocketpy) (1.4.8)\n",
      "Requirement already satisfied: packaging>=20.0 in ./.venv/lib/python3.12/site-packages (from matplotlib>=3.0->rocketpy) (24.2)\n",
      "Requirement already satisfied: pillow>=8 in ./.venv/lib/python3.12/site-packages (from matplotlib>=3.0->rocketpy) (11.1.0)\n",
      "Requirement already satisfied: pyparsing>=2.3.1 in ./.venv/lib/python3.12/site-packages (from matplotlib>=3.0->rocketpy) (3.2.1)\n",
      "Requirement already satisfied: python-dateutil>=2.7 in ./.venv/lib/python3.12/site-packages (from matplotlib>=3.0->rocketpy) (2.9.0.post0)\n",
      "Requirement already satisfied: cftime in ./.venv/lib/python3.12/site-packages (from netCDF4>=1.6.4->rocketpy) (1.6.4.post1)\n",
      "Requirement already satisfied: certifi in ./.venv/lib/python3.12/site-packages (from netCDF4>=1.6.4->rocketpy) (2025.1.31)\n",
      "Requirement already satisfied: charset-normalizer<4,>=2 in ./.venv/lib/python3.12/site-packages (from requests->rocketpy) (3.4.1)\n",
      "Requirement already satisfied: idna<4,>=2.5 in ./.venv/lib/python3.12/site-packages (from requests->rocketpy) (3.10)\n",
      "Requirement already satisfied: urllib3<3,>=1.21.1 in ./.venv/lib/python3.12/site-packages (from requests->rocketpy) (2.3.0)\n",
      "Requirement already satisfied: six>=1.5 in ./.venv/lib/python3.12/site-packages (from python-dateutil>=2.7->matplotlib>=3.0->rocketpy) (1.17.0)\n",
      "Note: you may need to restart the kernel to use updated packages.\n"
     ]
    }
   ],
   "source": [
    "pip install rocketpy"
   ]
  },
  {
   "cell_type": "code",
   "execution_count": 4,
   "metadata": {
    "colab": {
     "base_uri": "https://localhost:8080/"
    },
    "executionInfo": {
     "elapsed": 7498,
     "status": "ok",
     "timestamp": 1739725666476,
     "user": {
      "displayName": "Diego Grünberger",
      "userId": "05610014897733337197"
     },
     "user_tz": -60
    },
    "id": "_Nw5sKvnTNqA",
    "outputId": "f2fd1e27-c101-4b40-c30b-0424eaf4e7f2"
   },
   "outputs": [
    {
     "name": "stdout",
     "output_type": "stream",
     "text": [
      "Requirement already satisfied: CoolProp in ./.venv/lib/python3.12/site-packages (6.7.0)\n",
      "Note: you may need to restart the kernel to use updated packages.\n"
     ]
    }
   ],
   "source": [
    "pip install CoolProp"
   ]
  },
  {
   "cell_type": "code",
   "execution_count": 5,
   "metadata": {
    "executionInfo": {
     "elapsed": 1397,
     "status": "ok",
     "timestamp": 1739725667870,
     "user": {
      "displayName": "Diego Grünberger",
      "userId": "05610014897733337197"
     },
     "user_tz": -60
    },
    "id": "Nj13IGiKlIkx"
   },
   "outputs": [],
   "source": [
    "from rocketpy import Environment, SolidMotor, Rocket, Flight, Fluid, LiquidMotor, CylindricalTank, MassFlowRateBasedTank, TrapezoidalFins, FreeFormFins, EllipticalFins, RailButtons, NoseCone, Tail, Parachute\n",
    "import rocketpy as rpy\n",
    "from math import exp\n",
    "from math import pi\n",
    "import datetime\n",
    "import json\n",
    "import CoolProp.CoolProp as CP\n",
    "from CoolProp.CoolProp import PropsSI\n",
    "from rocketpy.mathutils import Function"
   ]
  },
  {
   "cell_type": "markdown",
   "metadata": {},
   "source": [
    "## Configuration (new)\n",
    "\n",
    "Idea: a list of config dictionaries is passed to the simulation"
   ]
  },
  {
   "cell_type": "code",
   "execution_count": null,
   "metadata": {},
   "outputs": [
    {
     "name": "stdout",
     "output_type": "stream",
     "text": [
      "Fetching elevation from open-elevation.com for lat=39.12368, lon=-8.03333...\n",
      "Elevation received: 161.0 m\n",
      "Warning: Adding spherical caps to the tank will not modify the total height of the tank 0.2354 m. Its cylindrical portion height will be reduced to 0.1464 m.\n",
      "Warning: Adding spherical caps to the tank will not modify the total height of the tank 0.57361 m. Its cylindrical portion height will be reduced to 0.46360999999999997 m.\n",
      "Warning: Adding spherical caps to the tank will not modify the total height of the tank 0.57398 m. Its cylindrical portion height will be reduced to 0.46398000000000006 m.\n",
      "Nozzle Details\n",
      "Nozzle Radius: 0.0375 m\n",
      "\n",
      "Motor Details\n",
      "Total Burning Time: 3.9999999999999996 s\n",
      "Total Propellant Mass: 5.750 kg\n",
      "Structural Mass Ratio: 0.000\n",
      "Average Propellant Exhaust Velocity: 1818.182 m/s\n",
      "Average Thrust: 2000.000 N\n",
      "Maximum Thrust: 2000.0 N at 0.0 s after ignition.\n",
      "Total Impulse: 8000.000 Ns\n",
      "\n"
     ]
    },
    {
     "data": {
      "image/png": "[encoded data removed]",
      "text/plain": [
       "<Figure size 800x600 with 1 Axes>"
      ]
     },
     "metadata": {},
     "output_type": "display_data"
    },
    {
     "data": {
      "image/png": "[encoded data removed]",
      "text/plain": [
       "<Figure size 640x480 with 1 Axes>"
      ]
     },
     "metadata": {},
     "output_type": "display_data"
    },
    {
     "data": {
      "image/png": "[encoded data removed]",
      "text/plain": [
       "<Figure size 640x480 with 1 Axes>"
      ]
     },
     "metadata": {},
     "output_type": "display_data"
    },
    {
     "data": {
      "image/png": "[encoded data removed]",
      "text/plain": [
       "<Figure size 640x480 with 1 Axes>"
      ]
     },
     "metadata": {},
     "output_type": "display_data"
    },
    {
     "data": {
      "image/png": "[encoded data removed]",
      "text/plain": [
       "<Figure size 640x480 with 1 Axes>"
      ]
     },
     "metadata": {},
     "output_type": "display_data"
    },
    {
     "data": {
      "image/png": "[encoded data removed]",
      "text/plain": [
       "<Figure size 640x480 with 1 Axes>"
      ]
     },
     "metadata": {},
     "output_type": "display_data"
    },
    {
     "data": {
      "image/png": "[encoded data removed]",
      "text/plain": [
       "<Figure size 640x480 with 1 Axes>"
      ]
     },
     "metadata": {},
     "output_type": "display_data"
    },
    {
     "data": {
      "image/png": "[encoded data removed]",
      "text/plain": [
       "<Figure size 640x480 with 1 Axes>"
      ]
     },
     "metadata": {},
     "output_type": "display_data"
    }
   ],
   "source": [
    "# the file paths of all dictionaries to be simulated\n",
    "config_dict_list = [\n",
    "    \"config_dict.json\"\n",
    "]\n",
    "\n",
    "flight_dict = {}\n",
    "\n",
    "for config in config_dict_list:\n",
    "    # load the config json into a dictionary\n",
    "    with open(config, \"rt\") as f:\n",
    "        config_dict = json.loads(f.read())\n",
    "\n",
    "    # flags initialisation\n",
    "    # select whether preset mass from config sheet is used...\n",
    "    use_preset_mass = config_dict[\"Flags\"][\"flag\"][\"use_preset_mass\"][\"Value\"]\n",
    "    # ...or highest geometrically possible mass is used\n",
    "    # if both these flags are set to False, the mass is calculated through (massflow * burntime * (1 + overfill percentage))\n",
    "    use_max_n2_mass = config_dict[\"Flags\"][\"flag\"][\"use_max_nitrogen_mass\"][\"Value\"]\n",
    "    use_max_mass = config_dict[\"Flags\"][\"flag\"][\"use_max_mass\"][\"Value\"] # for fuel and lox\n",
    "    # select whether thrust is a constant integer or a .csv file is provided\n",
    "    use_static_thrust = config_dict[\"Flags\"][\"flag\"][\"use_static_thrust\"][\"Value\"]\n",
    "    # select whether the simulation adds ice weight to total rocket weight\n",
    "    account_for_ice = config_dict[\"Flags\"][\"flag\"][\"account_for_ice\"][\"Value\"]\n",
    "\n",
    "    # check for valid flag selection (max and preset cannot be used simultaneously)\n",
    "    if use_preset_mass and use_max_mass:\n",
    "        print(\"Flag selection error\")\n",
    "\n",
    "    # Environment config // if environment should be with forecast, this code section must be adapted\n",
    "    env = Environment()\n",
    "    \n",
    "    # convert from list to datetime -> ugly but it works\n",
    "    date = datetime.datetime(\n",
    "        int(config_dict[\"Environment\"][\"env\"][\"date\"][\"Value\"][0]),\n",
    "        int(config_dict[\"Environment\"][\"env\"][\"date\"][\"Value\"][1]),\n",
    "        int(config_dict[\"Environment\"][\"env\"][\"date\"][\"Value\"][2]),\n",
    "        int(config_dict[\"Environment\"][\"env\"][\"date\"][\"Value\"][3]),\n",
    "        int(config_dict[\"Environment\"][\"env\"][\"date\"][\"Value\"][4]),\n",
    "        int(config_dict[\"Environment\"][\"env\"][\"date\"][\"Value\"][5])\n",
    "        )\n",
    "    \n",
    "    env.set_location(\n",
    "        latitude = config_dict[\"Environment\"][\"env\"][\"latitude\"][\"Value\"],\n",
    "        longitude = config_dict[\"Environment\"][\"env\"][\"longitude\"][\"Value\"]\n",
    "    )\n",
    "    env.set_elevation(\"Open-Elevation\")\n",
    "    env.set_atmospheric_model(type = \"standard_atmosphere\")\n",
    "    env.set_date(\n",
    "        date,\n",
    "        timezone = config_dict[\"Environment\"][\"env\"][\"timezone\"][\"Value\"]\n",
    "    )\n",
    "    # end of environment section\n",
    "    # Tanks config\n",
    "\n",
    "    # preset initialisation\n",
    "    t_burn = config_dict[\"Motor\"][\"presets\"][\"burn_time\"][\"Value\"]\n",
    "    t_holddown = config_dict[\"Motor\"][\"presets\"][\"holddown_time\"][\"Value\"]\n",
    "\n",
    "    if t_holddown > t_burn:\n",
    "        print(\"Holddown time too long -> Time error\")\n",
    "\n",
    "    overfill_percentage = config_dict[\"Motor\"][\"presets\"][\"overfill_percentage\"][\"Value\"]\n",
    "\n",
    "    if use_static_thrust:\n",
    "        thrust = lambda t: config_dict[\"Motor\"][\"presets\"][\"thrust\"][\"Value\"]\n",
    "    else:\n",
    "        print(\"this feature is yet to be implemented\")\n",
    "    \n",
    "    # geometrical initialisation\n",
    "    length_n2_tank = config_dict[\"Motor\"][\"nitrogen_tank\"][\"length\"][\"Value\"]\n",
    "    length_fuel_tank = config_dict[\"Motor\"][\"ethanol_tank\"][\"length\"][\"Value\"]\n",
    "    length_lox_tank = config_dict[\"Motor\"][\"lox_tank\"][\"length\"][\"Value\"]\n",
    "\n",
    "    outer_diameter_n2_tank = config_dict[\"Motor\"][\"nitrogen_tank\"][\"outer_diameter\"][\"Value\"]\n",
    "    outer_diameter_fuel_tank = config_dict[\"Motor\"][\"ethanol_tank\"][\"outer_diameter\"][\"Value\"]\n",
    "    outer_diameter_lox_tank = config_dict[\"Motor\"][\"lox_tank\"][\"outer_diameter\"][\"Value\"]\n",
    "\n",
    "    thickness_n2_tank = config_dict[\"Motor\"][\"nitrogen_tank\"][\"thickness\"][\"Value\"]\n",
    "    thickness_fuel_tank = config_dict[\"Motor\"][\"ethanol_tank\"][\"thickness\"][\"Value\"]\n",
    "    thickness_lox_tank = config_dict[\"Motor\"][\"lox_tank\"][\"thickness\"][\"Value\"]\n",
    "\n",
    "    inner_diameter_n2_tank = outer_diameter_n2_tank - (2 * thickness_n2_tank)\n",
    "    inner_diameter_fuel_tank = outer_diameter_fuel_tank - (2 * thickness_fuel_tank)\n",
    "    inner_diameter_lox_tank = outer_diameter_lox_tank - (2 * thickness_lox_tank)\n",
    "\n",
    "    n2_tank_shape = CylindricalTank(radius=(inner_diameter_n2_tank/2), height=length_n2_tank, spherical_caps=True)\n",
    "    fuel_tank_shape = CylindricalTank(radius=(inner_diameter_fuel_tank/2), height=length_fuel_tank, spherical_caps=True)\n",
    "    lox_tank_shape = CylindricalTank(radius=(inner_diameter_lox_tank/2), height=length_lox_tank, spherical_caps=True)\n",
    "\n",
    "    nozzle_diameter = config_dict[\"Motor\"][\"nozzle\"][\"diameter\"][\"Value\"]\n",
    "    nozzle_position = config_dict[\"Motor\"][\"nozzle\"][\"position\"][\"Value\"]\n",
    "\n",
    "    # fluid dynamical initialisation\n",
    "    massflow_n2 = config_dict[\"Motor\"][\"nitrogen_tank\"][\"massflow\"][\"Value\"]\n",
    "    massflow_fuel = config_dict[\"Motor\"][\"ethanol_tank\"][\"massflow\"][\"Value\"]\n",
    "    massflow_lox = config_dict[\"Motor\"][\"lox_tank\"][\"massflow\"][\"Value\"]\n",
    "\n",
    "    temperature_n2 = config_dict[\"Motor\"][\"presets\"][\"nitrogen_temperature\"][\"Value\"]\n",
    "    temperature_fuel = config_dict[\"Motor\"][\"presets\"][\"ethanol_temperature\"][\"Value\"]\n",
    "    temperature_lox = config_dict[\"Motor\"][\"presets\"][\"lox_temperature\"][\"Value\"]\n",
    "\n",
    "    pressure_n2 = config_dict[\"Motor\"][\"presets\"][\"nitrogen_pressure\"][\"Value\"]\n",
    "    pressure_fuel = config_dict[\"Motor\"][\"presets\"][\"ethanol_pressure\"][\"Value\"]\n",
    "    pressure_lox = config_dict[\"Motor\"][\"presets\"][\"lox_pressure\"][\"Value\"]\n",
    "\n",
    "    density_n2 = CP.PropsSI(\"D\",\"T\",temperature_n2,\"P|gas\",pressure_n2,\"N2\")\n",
    "    density_fuel = CP.PropsSI(\"D\", \"T|liquid\", temperature_fuel, \"P\", pressure_fuel, \"ethanol\")\n",
    "    density_lox = CP.PropsSI(\"D\", \"T|liquid\", temperature_lox, \"P\", pressure_lox, \"oxygen\")\n",
    "    \n",
    "    n2 = Fluid(name = \"N2\", density = density_n2)\n",
    "    fuel = Fluid(name = \"ethanol\", density = density_fuel)\n",
    "    lox = Fluid(name = \"LOX\", density = density_lox)\n",
    "\n",
    "    # Mass flags processing\n",
    "    # calculate mass that is passed on to RocketPy considering the selected flags\n",
    "    if use_max_n2_mass:\n",
    "        mass_n2 = n2_tank_shape.total_volume * density_n2\n",
    "        # notify user if burn time is too long for available amount of n2 under given massflow\n",
    "        if (mass_n2 / massflow_n2) < t_burn:\n",
    "            print(\"Burntime too long or massflow too fast -> Nitrogen error\")\n",
    "    else:\n",
    "        mass_n2 = massflow_n2 * t_burn * (1 + (overfill_percentage/100)) # if conversion from % is implemented in config generator -> remove /100\n",
    "    \n",
    "    if use_preset_mass:\n",
    "        mass_fuel = config_dict[\"Motor\"][\"presets\"][\"ethanol_mass\"][\"Value\"]\n",
    "        mass_lox = config_dict[\"Motor\"][\"presets\"][\"lox_mass\"][\"Value\"]\n",
    "    elif use_max_mass:\n",
    "        mass_fuel = fuel_tank_shape.total_volume * density_fuel\n",
    "        mass_lox = lox_tank_shape.total_volume * density_fuel\n",
    "        # if max values are used, burn time needs to be adjusted as this is now the variable\n",
    "        if (mass_fuel / massflow_fuel) < (mass_lox / massflow_lox):\n",
    "            t_burn = mass_fuel / massflow_fuel\n",
    "        else:\n",
    "            t_burn = mass_lox / massflow_lox\n",
    "    else:\n",
    "        mass_fuel = massflow_fuel * t_burn * (1 + (overfill_percentage/100))\n",
    "        mass_lox = massflow_lox * t_burn * (1 + (overfill_percentage/100))\n",
    "\n",
    "    # finally the burn time is updated to account for the holddown time; the mass which contributes to the flight is updated as well\n",
    "    t_burn -= t_holddown\n",
    "    mass_fuel -= massflow_fuel * t_holddown\n",
    "    mass_lox -= massflow_lox * t_holddown\n",
    "\n",
    "    # Mass flow rate tank model definitions\n",
    "    n2_tank = MassFlowRateBasedTank(\n",
    "        name=\"n2 tank\",\n",
    "        geometry=n2_tank_shape,\n",
    "        flux_time=t_burn, # why is (mass_n2 / massflow_n2) used here in the original script?\n",
    "        initial_liquid_mass=0,\n",
    "        initial_gas_mass=mass_n2,\n",
    "        liquid_mass_flow_rate_in=0,\n",
    "        liquid_mass_flow_rate_out=0,\n",
    "        gas_mass_flow_rate_in=0,\n",
    "        gas_mass_flow_rate_out=lambda t: massflow_n2,\n",
    "        liquid=Fluid(name=\"irrelevant\", density=0.0001),\n",
    "        gas=n2\n",
    "    )\n",
    "    \n",
    "    fuel_tank = MassFlowRateBasedTank(\n",
    "        name=\"fuel tank\",\n",
    "        geometry=fuel_tank_shape,\n",
    "        flux_time=t_burn,\n",
    "        initial_liquid_mass=mass_fuel,\n",
    "        initial_gas_mass=0, # can be neglected\n",
    "        liquid_mass_flow_rate_in=0,\n",
    "        liquid_mass_flow_rate_out=lambda t: massflow_fuel,\n",
    "        gas_mass_flow_rate_in=lambda t: massflow_n2,\n",
    "        gas_mass_flow_rate_out=0,\n",
    "        liquid=fuel,\n",
    "        gas=n2\n",
    "    )\n",
    "\n",
    "    lox_tank = MassFlowRateBasedTank(\n",
    "        name=\"lox tank\",\n",
    "        geometry=lox_tank_shape,\n",
    "        flux_time=t_burn,\n",
    "        initial_liquid_mass=mass_lox,\n",
    "        initial_gas_mass = 0, # can be neglected\n",
    "        liquid_mass_flow_rate_in=0,\n",
    "        liquid_mass_flow_rate_out=lambda t: massflow_lox,\n",
    "        gas_mass_flow_rate_in=lambda t: massflow_n2,\n",
    "        gas_mass_flow_rate_out=0,\n",
    "        liquid=lox,\n",
    "        gas = n2\n",
    "    )\n",
    "\n",
    "    propulsion_system = LiquidMotor(\n",
    "        dry_mass=0.0001,\n",
    "        dry_inertia=(0,0,0),\n",
    "        center_of_dry_mass_position=0,\n",
    "        nozzle_radius=(nozzle_diameter/2),\n",
    "        nozzle_position=nozzle_position,\n",
    "        thrust_source=thrust,\n",
    "        burn_time=t_burn,\n",
    "        coordinate_system_orientation=\"nozzle_to_combustion_chamber\"\n",
    "    )\n",
    "\n",
    "    propulsion_system.add_tank(tank=fuel_tank, position=config_dict[\"Motor\"][\"ethanol_tank\"][\"CG\"][\"Value\"])\n",
    "    propulsion_system.add_tank(tank=lox_tank, position=config_dict[\"Motor\"][\"lox_tank\"][\"CG\"][\"Value\"])\n",
    "    propulsion_system.add_tank(tank=n2_tank, position=config_dict[\"Motor\"][\"nitrogen_tank\"][\"CG_ethanol\"][\"Value\"])\n",
    "    propulsion_system.add_tank(tank=n2_tank, position=config_dict[\"Motor\"][\"nitrogen_tank\"][\"CG_lox\"][\"Value\"])\n",
    "\n",
    "    #propulsion_system.all_info()\n",
    "    \n",
    "\n",
    "    \n",
    "\n"
   ]
  },
  {
   "cell_type": "markdown",
   "metadata": {
    "id": "h34qDv8nvAgf"
   },
   "source": [
    "## Configuration"
   ]
  },
  {
   "cell_type": "markdown",
   "metadata": {
    "id": "WLnq3yOwE6b5"
   },
   "source": [
    "The length unit chosen here is millimeters to keep the values more readable. If necessary, values should be converted accordingly."
   ]
  },
  {
   "cell_type": "code",
   "execution_count": 18,
   "metadata": {
    "executionInfo": {
     "elapsed": 277,
     "status": "ok",
     "timestamp": 1739726216561,
     "user": {
      "displayName": "Diego Grünberger",
      "userId": "05610014897733337197"
     },
     "user_tz": -60
    },
    "id": "6XJfbiMlAFIW"
   },
   "outputs": [],
   "source": [
    "# Rocket configuration data\n",
    "env_config = {\n",
    "    \"date\" : (2025, 2, 17, 13, 00, 00),   # yyyy, mm, dd, hh, mm, ss\n",
    "    \"latitude\" : 39.12368,                # Launch latitude    #Preset\n",
    "    \"longitude\" : -8.03333,               # Launch longitude   #Preset\n",
    "    \"timezone\" : \"Europe/Lisbon\"          # GMT+1   #Preset\n",
    "}\n",
    "motor_config = {\n",
    "    \"burn_time\" : 5.1,                      # s       #calculated\n",
    "    \"holddown_time\" : 1.1,                # s       #calculated\n",
    "\n",
    "    \"nitrogen_tank\" : {\n",
    "        \"length\" : 235.411,               # mm\n",
    "        \"CG_lox\" : 2622.95,               # mm\n",
    "        \"CG_ethanol\" : 1422.1595,         # mm\n",
    "        \"outer_diameter\": 93,             # mm\n",
    "        \"thickness\" : 2,                  # mm\n",
    "        \"massflow\" : 0.03,                # kg/s   #Estimate\n",
    "    },\n",
    "    \"ethanol_tank\" : {\n",
    "        \"length\" : 573.61485,             # mm\n",
    "        \"CG\" : 825.55,                    # mm\n",
    "        \"outer_diameter\": 115,            # mm\n",
    "        \"thickness\" : 2.5,                # mm\n",
    "        \"massflow\" : 0.5,                 # kg/s   #tested\n",
    "    },\n",
    "    \"lox_tank\" : {\n",
    "        \"length\" : 573.978,               # mm\n",
    "        \"CG\" : 1932.5205,                 # mm\n",
    "        \"outer_diameter\" : 115,           # mm\n",
    "        \"thickness\" : 2.5,                # mm\n",
    "        \"massflow\" : 0.6,                 # kg/s   #tested\n",
    "    },\n",
    "    \"nozzle\" : {\n",
    "        \"diameter\" : 75,                  # mm\n",
    "        \"position\" : -40,                 # mm\n",
    "    },\n",
    "\n",
    "\n",
    "    \"use_preset_ethanol_mass\" : False,\n",
    "    \"use_preset_lox_mass\" : False,\n",
    "    \"use_max_nitrogen_mass\" : True,\n",
    "    \"use_max_ethanol_mass\" : True,\n",
    "    \"use_max_lox_mass\" : True,\n",
    "    \"use_static_thrust\": True,\n",
    "    \"thrust\": 2000,                       #N\n",
    "    \"overfill_percentage\" : 0.001,        # %       #Preset\n",
    "\n",
    "    \"mass\" : {\n",
    "      \"ethanol\" : 2.7,                    # kg     #Preset\n",
    "      \"lox\" : 3.5,                        # kg     #Preset\n",
    "      \"ice\" : 0.5                         # kg     #Preset\n",
    "    },\n",
    "    \"temperature\" : {\n",
    "        \"ethanol\" : 298.15,               # K      #Preset (= 25°C)\n",
    "        \"lox\" : 73.15,                    # K      #Preset (= -200°C)\n",
    "        \"nitrogen\" : 298.15             # K      #Preset (= 25°C)\n",
    "    },\n",
    "    \"pressure\" : {\n",
    "        \"ethanol\" : 3000000,              # Pa     #Preset\n",
    "        \"lox\" : 3000000,                  # Pa     #Preset\n",
    "        \"nitrogen\" : 30000000           # Pa     #Preset\n",
    "    }\n",
    "}\n",
    "\n",
    "rocket_config = {\n",
    "    \"account_for_ice\" : True,\n",
    "    \"total_weight\" : 16580,               # g       #weighed\n",
    "    \"total_length\" : 3765,                # mm\n",
    "    \"total_CG\" : 1813,                    # mm      #calculated\n",
    "    \"moment_of_intertia_Z\" : 0.0255,      # kg*m^2  #calculated\n",
    "    \"moment_of_intertia_XY\" : 16.8,       # kg*m^2  #calculated\n",
    "    \"nosecone_length\" : 650,              # mm\n",
    "    \"railbuttons\" : {\n",
    "        \"upper\" : 1646.67,                # mm\n",
    "        \"lower\" : 297.5,                  # mm\n",
    "    },\n",
    "    \"tailcone\" : {\n",
    "        \"diameter\" : 97.8,                # mm\n",
    "        \"length\" : 245.643,               # mm\n",
    "        \"cylindrical_height\" : 34.8,      # mm\n",
    "    },\n",
    "    \"rocket\" : {\n",
    "        \"thickness\" : 1.4,                # mm\n",
    "        \"diameter\" : 132.8,               # mm\n",
    "    },\n",
    "    \"fins\" : {\n",
    "        \"name\" : \"Biconvex\",\n",
    "        \"amount\" : 4,\n",
    "        \"root_chord\" : 199.0211,          # mm\n",
    "        \"tip_chord\" : 79.4,               # mm\n",
    "        \"span\" : 96.4,                    # mm\n",
    "        \"sweep_length\" : 63.892,          # mm\n",
    "        \"position\" : 233,                 # mm\n",
    "        \"shape_points\" : ((0,0),\n",
    "                          (-0.0265,0.0036),\n",
    "                          (-0.0902,0.114),\n",
    "                          (-0.170,0.114),\n",
    "                          (-0.234,0.017),\n",
    "                          (-0.0265,0.00359),\n",
    "                          (0,0))\n",
    "    },\n",
    "    \"parachutes\" : {\n",
    "        \"main\" : {\n",
    "            \"cd_s\" : 6.911503837897546,\n",
    "            \"trigger\" : 450,              # m      #Preset\n",
    "            \"sampling_rate\" : 105,        # hz     #Preset\n",
    "            \"lag\" : 4,                    # s      #Tested\n",
    "            \"noise\" : (0, 8.3, 0.5)       # (pa, pa, pa)\n",
    "        },\n",
    "        \"drogue\" : {\n",
    "            \"cd_s\" : 0.336875,\n",
    "            \"trigger\" : \"apogee\",         # m      #Preset\n",
    "            \"sampling_rate\" : 105,        # hz     #Preset\n",
    "            \"lag\" : 1,                    # s      #tested\n",
    "            \"noise\" : (0, 8.3, 0.5)       # (pa, pa, pa)\n",
    "        }\n",
    "    }\n",
    "}\n",
    "flight_config = {\n",
    "    \"rail_length\" : 11,                   # m       #Preset\n",
    "    \"inclination\" : 84,                   # °       #Preset\n",
    "    \"heading\" : 133,                      # °       #Preset\n",
    "}"
   ]
  },
  {
   "cell_type": "markdown",
   "metadata": {
    "id": "ML-Ipifqsg02"
   },
   "source": [
    "## Environments Initialization\n",
    "\n",
    "\n"
   ]
  },
  {
   "cell_type": "markdown",
   "metadata": {
    "id": "wMImlBCWNY-8"
   },
   "source": [
    "In this Section the environments are initialized.\n",
    "*   **envForecast**: environment with the weather data from the wyoming-sounding data source at the location and date of EuRoc\n",
    "*   **envNormal**: normalized environment with standard atmospheric values at the time and location of EuRoc\n",
    "*   **envCostom**: custom environment with variable values for temperature and windspeed\n"
   ]
  },
  {
   "cell_type": "code",
   "execution_count": null,
   "metadata": {
    "colab": {
     "base_uri": "https://localhost:8080/",
     "height": 1000
    },
    "executionInfo": {
     "elapsed": 10228,
     "status": "ok",
     "timestamp": 1739725697096,
     "user": {
      "displayName": "Diego Grünberger",
      "userId": "05610014897733337197"
     },
     "user_tz": -60
    },
    "id": "RXOdjsZEpNq1",
    "outputId": "4c5d8984-4e6f-4006-84bf-aaf315f35985"
   },
   "outputs": [],
   "source": [
    "#Ponte de Sor: 39.12368, -8.03333\n",
    "#EUROC: 09.-15.10.2024\n",
    "#possible launch date: 11.10.2024\n",
    "\n",
    "#Environment based on Forecast data for the EuRoC 2024\n",
    "envForecast = Environment()\n",
    "\n",
    "envForecast.set_location(latitude = env_config[\"latitude\"], longitude = env_config[\"longitude\"])\n",
    "envForecast.set_elevation(\"Open-Elevation\")\n",
    "envForecast.set_date(\n",
    "    env_config[\"date\"],\n",
    "    timezone = env_config[\"timezone\"]\n",
    ")\n",
    "\n",
    "envForecast.set_atmospheric_model(type=\"Forecast\", file=\"GFS\")\n",
    "envForecast.info()\n",
    "\n",
    "\n",
    "#Environment based on standard values\n",
    "envNormal = Environment()\n",
    "envNormal.set_location(latitude = env_config[\"latitude\"], longitude = env_config[\"longitude\"])\n",
    "envNormal.set_elevation(\"Open-Elevation\")\n",
    "envNormal.set_date(env_config[\"date\"], timezone = env_config[\"timezone\"])\n",
    "envNormal.set_atmospheric_model(type = \"standard_atmosphere\")\n",
    "envNormal.info()\n",
    "\n",
    "#Environment based on Custom Data\n",
    "envCustom = Environment()\n",
    "envCustom.set_location(latitude = env_config[\"latitude\"], longitude = env_config[\"longitude\"])\n",
    "envCustom.set_atmospheric_model(type = \"custom_atmosphere\", temperature = 30 + 273.15, wind_u = lambda t:10 + (t /1000)**2, wind_v = 0)\n",
    "envCustom.info()"
   ]
  },
  {
   "cell_type": "markdown",
   "metadata": {
    "id": "yqW-sOwiVSZd"
   },
   "source": [
    "## Simulation"
   ]
  },
  {
   "cell_type": "markdown",
   "metadata": {
    "id": "CweyILg2W_5j"
   },
   "source": [
    "### Tanks / Engine\n",
    "\n"
   ]
  },
  {
   "cell_type": "code",
   "execution_count": null,
   "metadata": {
    "colab": {
     "base_uri": "https://localhost:8080/",
     "height": 1000
    },
    "executionInfo": {
     "elapsed": 2815,
     "status": "ok",
     "timestamp": 1739726223432,
     "user": {
      "displayName": "Diego Grünberger",
      "userId": "05610014897733337197"
     },
     "user_tz": -60
    },
    "id": "PdNn1WpJXWNL",
    "outputId": "773bc204-ab3c-4332-987d-4ec6abb5a994"
   },
   "outputs": [],
   "source": [
    "#Burn time\n",
    "t_burn              = motor_config[\"burn_time\"]       #s\n",
    "#holddown time\n",
    "t_holddown          = motor_config[\"holddown_time\"]   #s\n",
    "\n",
    "\n",
    "# tank height\n",
    "h_nitrogen_tank     = motor_config[\"nitrogen_tank\"][\"length\"]     / 1000  #m\n",
    "h_ethanol_tank      = motor_config[\"ethanol_tank\"][\"length\"]      / 1000  #m\n",
    "h_lox_tank          = motor_config[\"lox_tank\"][\"length\"]          / 1000  #m\n",
    "#OuterDiameter\n",
    "OD_nitrogen_tank    = motor_config[\"nitrogen_tank\"][\"outer_diameter\"]   / 1000  #m\n",
    "OD_ethanol_tank     = motor_config[\"ethanol_tank\"][\"outer_diameter\"]    / 1000  #m\n",
    "OD_lox_tank         = motor_config[\"lox_tank\"][\"outer_diameter\"]        / 1000  #m\n",
    "#Thickness\n",
    "Th_nitrogen_tank    = motor_config[\"nitrogen_tank\"][\"thickness\"]  / 1000  #m\n",
    "Th_ethanol_tank     = motor_config[\"ethanol_tank\"][\"thickness\"]   / 1000  #m\n",
    "Th_lox_tank         = motor_config[\"lox_tank\"][\"thickness\"]       / 1000  #m\n",
    "#massflows\n",
    "mdot_nitrogen     = motor_config[\"nitrogen_tank\"] [\"massflow\"]    #kg/s\n",
    "mdot_ethanol      = motor_config[\"ethanol_tank\"][\"massflow\"]      #kg/s\n",
    "mdot_lox          = motor_config[\"lox_tank\"][\"massflow\"]          #kg/s\n",
    "#nozzle\n",
    "nozzle_diameter     = motor_config[\"nozzle\"][\"diameter\"]          / 1000  #m\n",
    "nozzle_position     = motor_config[\"nozzle\"][\"position\"]          / 1000  #m\n",
    "\n",
    "\n",
    "#preset mass flag\n",
    "use_preset_ethanol_mass   = motor_config[\"use_preset_ethanol_mass\"]\n",
    "use_preset_lox_mass       = motor_config[\"use_preset_lox_mass\"]\n",
    "#max mass flag\n",
    "use_max_nitrogen_mass   = motor_config[\"use_max_nitrogen_mass\"]\n",
    "use_max_ethanol_mass    = motor_config[\"use_max_ethanol_mass\"]\n",
    "use_max_lox_mass        = motor_config[\"use_max_lox_mass\"]\n",
    "#static thrust flag\n",
    "use_static_thrust   = motor_config[\"use_static_thrust\"]\n",
    "#thrust\n",
    "thrust              = motor_config[\"thrust\"]                          #N\n",
    "#Overfill\n",
    "overfill_percentage = motor_config[\"overfill_percentage\"]             #%\n",
    "\n",
    "\n",
    "#masses\n",
    "m_ethanol_preset    = motor_config[\"mass\"][\"ethanol\"]                 #kg\n",
    "m_lox_preset        = motor_config[\"mass\"][\"lox\"]                     #kg\n",
    "# Temperature Lox & Ethanol\n",
    "T_nitrogen        = motor_config[\"temperature\"][\"nitrogen\"]           #K  (=25°C)\n",
    "T_ethanol         = motor_config[\"temperature\"][\"ethanol\"]            #K  (=25°C)\n",
    "T_lox             = motor_config[\"temperature\"][\"lox\"]                #K\n",
    "# pressure LOX & Ethanol\n",
    "p_nitrogen        = motor_config[\"pressure\"][\"nitrogen\"]              #Pa\n",
    "p_ethanol         = motor_config[\"pressure\"][\"ethanol\"]               #Pa\n",
    "p_lox             = motor_config[\"pressure\"][\"lox\"]                   #Pa\n",
    "\n",
    "\n",
    "\n",
    "\n",
    "\n",
    "\n",
    "\n",
    "\n",
    "\n",
    "# inner diameter\n",
    "ID_nitrogen_tank = OD_nitrogen_tank - (2* Th_nitrogen_tank)     # m\n",
    "ID_ethanol_tank = OD_ethanol_tank - (2 * Th_ethanol_tank)       # m\n",
    "ID_lox_tank = OD_lox_tank - (2 * Th_lox_tank)                   # m\n",
    "\n",
    "# Propellants\n",
    "# mass\n",
    "m_nitrogen_calculated = mdot_nitrogen * (t_burn)                # kg\n",
    "m_ethanol_calculated = mdot_ethanol * (t_burn)                  # kg\n",
    "m_lox_calculated = mdot_lox * (t_burn)                          # kg\n",
    "\n",
    "# define density\n",
    "rho_nitrogen = CP.PropsSI(\"D\",\"T\",T_nitrogen,\"P|gas\",p_nitrogen,\"N2\")             # kg/m^3\n",
    "rho_ethanol = CP.PropsSI(\"D\", \"T|liquid\", T_ethanol, \"P\", p_ethanol, \"ethanol\")   # kg/m^3\n",
    "rho_lox = CP.PropsSI(\"D\", \"T|liquid\", T_lox, \"P\", p_lox, \"oxygen\")                # kg/m^3\n",
    "\n",
    "# define fluids\n",
    "nitrogen = Fluid(name = \"N2\", density = rho_nitrogen)\n",
    "ethanol = Fluid(name = \"ethanol\", density = rho_ethanol)\n",
    "lox = Fluid(name = \"LOX\", density = rho_lox)\n",
    "\n",
    "# define tanks geometry\n",
    "nitrogen_tank_shape = CylindricalTank(radius = ID_nitrogen_tank / 2, height = h_nitrogen_tank, spherical_caps = True)\n",
    "ethanol_tank_shape = CylindricalTank(radius = ID_ethanol_tank / 2, height = h_ethanol_tank, spherical_caps = True)\n",
    "lox_tank_shape = CylindricalTank(radius = ID_lox_tank / 2, height = h_lox_tank, spherical_caps = True)\n",
    "\n",
    "\n",
    "\n",
    "\n",
    "v_nitrogen_tank = nitrogen_tank_shape.volume(h_nitrogen_tank/2)   # m³\n",
    "v_ethanol_tank = ethanol_tank_shape.volume(h_ethanol_tank/2)      # m³\n",
    "v_lox_tank = lox_tank_shape.volume(h_lox_tank/2)                  # m³\n",
    "\n",
    "m_nitrogen_max = v_nitrogen_tank * rho_nitrogen                   # m\n",
    "m_ethanol_max = v_ethanol_tank * rho_ethanol                      # m\n",
    "m_lox_max = v_lox_tank * rho_lox                                  # m\n",
    "\n",
    "t_burn_nitrogen = (m_nitrogen_max / mdot_nitrogen)-0.001          # s\n",
    "\n",
    "\n",
    "if(use_max_ethanol_mass and use_preset_ethanol_mass):\n",
    "  print(\"Cannot use preset and max!\")\n",
    "  m_enthanol = 100/0\n",
    "\n",
    "if(use_max_lox_mass and use_preset_lox_mass):\n",
    "  print(\"Cannot use preset and max!\")\n",
    "  m_lox = 100/0\n",
    "\n",
    "\n",
    "\n",
    "if(use_max_nitrogen_mass):\n",
    "  m_nitrogen = m_nitrogen_max\n",
    "else:\n",
    "  m_nitrogen = m_nitrogen_calculated + (overfill_percentage/100 * t_burn * mdot_nitrogen)\n",
    "\n",
    "if(use_preset_ethanol_mass):\n",
    "  m_ethanol = m_ethanol_preset\n",
    "elif(use_max_ethanol_mass):\n",
    "  m_ethanol = m_ethanol_max\n",
    "else:\n",
    "  m_ethanol = m_ethanol_calculated + (overfill_percentage/100 * t_burn * mdot_ethanol)\n",
    "\n",
    "if(use_preset_lox_mass):\n",
    "  m_lox = m_lox_preset\n",
    "elif(use_max_lox_mass):\n",
    "  m_lox = m_lox_max\n",
    "else:\n",
    "  m_lox = m_lox_calculated + (overfill_percentage/100 * t_burn * mdot_lox)\n",
    "\n",
    "if(use_max_ethanol_mass and use_max_lox_mass):\n",
    "  t_burn_ethanol = (m_ethanol_max / mdot_ethanol)\n",
    "  t_burn_lox = (m_lox_max / mdot_lox)\n",
    "  if(t_burn_ethanol<t_burn_lox):\n",
    "    t_burn = t_burn_ethanol-0.001\n",
    "  else:\n",
    "    t_burn = t_burn_lox-0.001\n",
    "\n",
    "if(use_static_thrust):\n",
    "  thrust_curve = lambda t: thrust\n",
    "else:\n",
    "  thrust_curve = \"thrust_curve.csv\"\n",
    "\n",
    "#account for holddown\n",
    "t_burn -= t_holddown\n",
    "m_lox -= mdot_lox * t_holddown\n",
    "m_ethanol -= mdot_ethanol * t_holddown\n",
    "\n",
    "if(t_burn_nitrogen<t_burn):\n",
    "  print(\"WARNING: TOO LITTLE NITROGEN, UNKNOWN EFFECTS\")\n",
    "\n",
    "\n",
    "# define tanks\n",
    "nitrogen_tank = MassFlowRateBasedTank(\n",
    "    name = \"nitrogen tank\",\n",
    "    geometry = nitrogen_tank_shape,\n",
    "    flux_time = t_burn_nitrogen,                        # s\n",
    "    initial_liquid_mass = 0,                            # kg\n",
    "    initial_gas_mass = m_nitrogen,                      # kg\n",
    "    liquid_mass_flow_rate_in = 0,                       # kg/s\n",
    "    liquid_mass_flow_rate_out = 0,                      # kg/s\n",
    "    gas_mass_flow_rate_in = 0,                          # kg/s\n",
    "    gas_mass_flow_rate_out = lambda t: mdot_nitrogen,   # ks/s\n",
    "    liquid = Fluid(name = \"liquid\", density = 0.0001),  # ignore\n",
    "    gas = nitrogen,\n",
    ")\n",
    "ethanol_tank = MassFlowRateBasedTank(\n",
    "    name = \"fuel tank\",\n",
    "    geometry = ethanol_tank_shape,\n",
    "    flux_time = t_burn,                                 # s\n",
    "    initial_liquid_mass = m_ethanol,                    # kg\n",
    "    initial_gas_mass = 0,                               # kg\n",
    "    liquid_mass_flow_rate_in = 0,                       # kg/s\n",
    "    liquid_mass_flow_rate_out = lambda t: mdot_ethanol, # kg/s\n",
    "    gas_mass_flow_rate_in = lambda t: mdot_nitrogen,    # kg/s\n",
    "    gas_mass_flow_rate_out = 0,                         # kg/s\n",
    "    liquid = ethanol,\n",
    "    gas = nitrogen,\n",
    ")\n",
    "\n",
    "lox_tank = MassFlowRateBasedTank(\n",
    "    name = \"oxidizer tank\",\n",
    "    geometry = lox_tank_shape,\n",
    "    flux_time = t_burn,                                 # s\n",
    "    initial_liquid_mass = m_lox,                        # kg\n",
    "    initial_gas_mass = 0,                               # kg\n",
    "    liquid_mass_flow_rate_in = 0,                       # kg/s\n",
    "    liquid_mass_flow_rate_out = lambda t: mdot_lox,     # kg/s\n",
    "    gas_mass_flow_rate_in = lambda t: mdot_nitrogen,    # kg/s\n",
    "    gas_mass_flow_rate_out = 0,                         # kg/s\n",
    "    liquid = lox,\n",
    "    gas = nitrogen,\n",
    ")\n",
    "\n",
    "skuld = LiquidMotor(\n",
    "    dry_mass = 0.0001,                  # kg\n",
    "    dry_inertia = (0,0,0),              # kg*m^2\n",
    "    center_of_dry_mass_position = 0,    # m\n",
    "\n",
    "    nozzle_radius = nozzle_diameter /2, # m\n",
    "    nozzle_position = nozzle_position,  # m\n",
    "\n",
    "    thrust_source = thrust_curve,       # N\n",
    "    burn_time = t_burn,                 # s\n",
    "    coordinate_system_orientation = \"nozzle_to_combustion_chamber\"\n",
    ")\n",
    "\n",
    "skuld.add_tank(tank = lox_tank, position =        motor_config[\"lox_tank\"][\"CG\"]                /1000)\n",
    "skuld.add_tank(tank = ethanol_tank, position =    motor_config[\"ethanol_tank\"][\"CG\"]            /1000)\n",
    "skuld.add_tank(tank = nitrogen_tank, position =   motor_config[\"nitrogen_tank\"][\"CG_lox\"]       /1000)\n",
    "skuld.add_tank(tank = nitrogen_tank, position =   motor_config[\"nitrogen_tank\"][\"CG_ethanol\"]   /1000)\n",
    "\n",
    "skuld.all_info()"
   ]
  },
  {
   "cell_type": "markdown",
   "metadata": {
    "id": "NbyhEM7rfQiv"
   },
   "source": [
    "### Rocket components"
   ]
  },
  {
   "cell_type": "code",
   "execution_count": null,
   "metadata": {
    "colab": {
     "base_uri": "https://localhost:8080/",
     "height": 797
    },
    "executionInfo": {
     "elapsed": 871,
     "status": "ok",
     "timestamp": 1739726224302,
     "user": {
      "displayName": "Diego Grünberger",
      "userId": "05610014897733337197"
     },
     "user_tz": -60
    },
    "id": "UOYct-lVciRZ",
    "outputId": "26c268b5-2e1a-4edb-812b-4b3a4afcb626"
   },
   "outputs": [],
   "source": [
    "#rocket\n",
    "rocket_length     = rocket_config[\"total_length\"]         / 1000  #m\n",
    "rocket_diameter   = rocket_config[\"rocket\"][\"diameter\"]   / 1000  #m\n",
    "rocket_thickness  = rocket_config[\"rocket\"][\"thickness\"]  / 1000  #m\n",
    "\n",
    "nose_cone = NoseCone(\n",
    "    length = (rocket_config[\"nosecone_length\"]-100)/1000, # m\n",
    "    base_radius = rocket_diameter/2,                      # m\n",
    "    kind = \"lv haack\"\n",
    ")\n",
    "\n",
    "tailcone_cylindrical    = rocket_config[\"tailcone\"][\"cylindrical_height\"] / 1000 # m\n",
    "tailcone_length         = rocket_config[\"tailcone\"][\"length\"]             / 1000 # m\n",
    "tailcone_bottom_radius  = rocket_config[\"tailcone\"][\"diameter\"]        /2 / 1000 # m\n",
    "\n",
    "tail = Tail(\n",
    "    top_radius = rocket_diameter /2,        # m\n",
    "    bottom_radius = tailcone_bottom_radius, # m\n",
    "    length = tailcone_length,               # m\n",
    "    rocket_radius = rocket_diameter/2       # m\n",
    ")\n",
    "\n",
    "fin_amount        = rocket_config[\"fins\"][\"amount\"]\n",
    "fin_name          = rocket_config[\"fins\"][\"name\"]\n",
    "fin_position      = rocket_config[\"fins\"][\"position\"]     / 1000  # m\n",
    "fin_root_chord    = rocket_config[\"fins\"][\"root_chord\"]   / 1000  # m\n",
    "fin_tip_chord     = rocket_config[\"fins\"][\"tip_chord\"]    / 1000  # m\n",
    "fin_span          = rocket_config[\"fins\"][\"span\"]         / 1000  # m\n",
    "fin_sweep_length  = rocket_config[\"fins\"][\"sweep_length\"] / 1000  # m\n",
    "fin_shape_points  = rocket_config[\"fins\"][\"shape_points\"]\n",
    "\n",
    "trapezoidal_fin_set = TrapezoidalFins(\n",
    "    n = fin_amount,\n",
    "    root_chord = fin_root_chord,      # m\n",
    "    tip_chord = fin_tip_chord,        # m\n",
    "    span = fin_span,                  # m\n",
    "    sweep_length = fin_sweep_length,  # m\n",
    "    #cant_angle = fin_cant_angle,     # deg\n",
    "    #sweep_angle = fin_sweep_angle,   # deg\n",
    "    name = fin_name,\n",
    "    rocket_radius = rocket_diameter/2 # m\n",
    "  )\n",
    "trapezoidal_fin_set.draw()\n",
    "\n",
    "fin_set = FreeFormFins(\n",
    "   n = fin_amount,\n",
    "   shape_points = fin_shape_points,\n",
    "   rocket_radius=tailcone_bottom_radius,\n",
    "   name = \"Freeform\"\n",
    ")\n",
    "fin_set.draw()\n",
    "\n",
    "parachutes = {}\n",
    "\n",
    "parachutes[0] = Parachute(\n",
    "    name = \"main\",\n",
    "    cd_s = rocket_config[\"parachutes\"][\"main\"][\"cd_s\"],\n",
    "    trigger = rocket_config[\"parachutes\"][\"main\"][\"trigger\"],             # m\n",
    "    sampling_rate = rocket_config[\"parachutes\"][\"main\"][\"sampling_rate\"], # hz\n",
    "    lag = rocket_config[\"parachutes\"][\"main\"][\"lag\"],                     # s\n",
    "    noise = rocket_config[\"parachutes\"][\"main\"][\"noise\"],                 # (pa, pa, pa)\n",
    ")\n",
    "\n",
    "parachutes[1] = Parachute(\n",
    "    name = \"drogue\",\n",
    "    cd_s = rocket_config[\"parachutes\"][\"drogue\"][\"cd_s\"],\n",
    "    trigger = rocket_config[\"parachutes\"][\"drogue\"][\"trigger\"],             # m\n",
    "    sampling_rate = rocket_config[\"parachutes\"][\"drogue\"][\"sampling_rate\"], # hz\n",
    "    lag = rocket_config[\"parachutes\"][\"drogue\"][\"lag\"],                     # s\n",
    "    noise = rocket_config[\"parachutes\"][\"drogue\"][\"noise\"],                 # (pa, pa, pa)\n",
    ")"
   ]
  },
  {
   "cell_type": "markdown",
   "metadata": {
    "id": "GEt-SBDfeKga"
   },
   "source": [
    "### Hedy"
   ]
  },
  {
   "cell_type": "code",
   "execution_count": null,
   "metadata": {
    "colab": {
     "base_uri": "https://localhost:8080/",
     "height": 1000
    },
    "executionInfo": {
     "elapsed": 2175,
     "status": "ok",
     "timestamp": 1739726226474,
     "user": {
      "displayName": "Diego Grünberger",
      "userId": "05610014897733337197"
     },
     "user_tz": -60
    },
    "id": "uHFiqRXmiPba",
    "outputId": "5caf0e4a-a9e7-44a0-f2d9-28fb51488de9"
   },
   "outputs": [],
   "source": [
    "\n",
    "total_mass        = rocket_config[\"total_weight\"]         / 1000  # kg\n",
    "\n",
    "if rocket_config[\"account_for_ice\"]:\n",
    "  total_mass += motor_config[\"mass\"][\"ice\"]\n",
    "\n",
    "#inertia\n",
    "inertia_x_y   = rocket_config[\"moment_of_intertia_XY\"]          # kg/m^2\n",
    "inertia_z     = rocket_config[\"moment_of_intertia_Z\"]           # kg/m^2\n",
    "\n",
    "upper_railbutton_position = rocket_config[\"railbuttons\"][\"upper\"]/1000\n",
    "lower_railbutton_position = rocket_config[\"railbuttons\"][\"lower\"]/1000\n",
    "\n",
    "#CG\n",
    "CG                = rocket_config[\"total_CG\"]             / 1000  # m\n",
    "\n",
    "hedy = Rocket(\n",
    "    radius = rocket_diameter /2,                      # m\n",
    "    mass = total_mass,                                # m\n",
    "    inertia = (inertia_x_y, inertia_x_y, inertia_z),  # kg * m^2\n",
    "    power_off_drag = \"power_off_drag.csv\",\n",
    "    power_on_drag = \"power_on_drag.csv\",\n",
    "    center_of_mass_without_motor = CG,                # m\n",
    "    coordinate_system_orientation = \"tail_to_nose\"\n",
    ")\n",
    "hedy.add_motor(skuld, position = 0)\n",
    "\n",
    "\n",
    "#hedy.set_rail_buttons(upper_button_position= upper_railbutton_position, lower_button_position=lower_railbutton_position)\n",
    "\n",
    "hedy.add_surfaces(surfaces=[nose_cone, trapezoidal_fin_set, tail], positions=[rocket_length, 0, tailcone_length])\n",
    "\n",
    "hedy.parachutes = list(parachutes.values())\n",
    "\n",
    "hedy.all_info()"
   ]
  },
  {
   "cell_type": "markdown",
   "metadata": {
    "id": "toVn8fN5fXuk"
   },
   "source": [
    "### Flight"
   ]
  },
  {
   "cell_type": "code",
   "execution_count": null,
   "metadata": {
    "colab": {
     "base_uri": "https://localhost:8080/",
     "height": 1000
    },
    "executionInfo": {
     "elapsed": 15824,
     "status": "ok",
     "timestamp": 1739727490948,
     "user": {
      "displayName": "Diego Grünberger",
      "userId": "05610014897733337197"
     },
     "user_tz": -60
    },
    "id": "Tg8Eoz1BfZtN",
    "outputId": "0f9a8f8b-b9c0-4c3f-f36d-577147ec03a2"
   },
   "outputs": [],
   "source": [
    "from os import name\n",
    "\n",
    "#flight = Flight(\n",
    "#          environment = envNormal,\n",
    "#          rocket = hedy,\n",
    "#          rail_length =   flight_config[\"rail_length\"], # m\n",
    "#          inclination =   flight_config[\"inclination\"], # °\n",
    "#          heading =       flight_config[\"heading\"],     # °\n",
    "#          terminate_on_apogee = True,\n",
    "#          name = \"Normal\"\n",
    "#  )\n",
    "#flight.prints.out_of_rail_conditions()\n",
    "#flight.prints.apogee_conditions()\n",
    "#flight.prints.impact_conditions()\n",
    "#flight.prints.maximum_values()\n",
    "#flight.plots.trajectory_3d()\n",
    "#flight.plots.stability_and_control_data()\n",
    "#flight.plots.all()\n",
    "\n",
    "#flight.prints.all()\n",
    "#flight.all_info()\n",
    "\n",
    "\n",
    "\n",
    "flight_forecast = Flight(\n",
    "          environment = envForecast,\n",
    "          rocket = hedy,\n",
    "          rail_length =   flight_config[\"rail_length\"], # m\n",
    "          inclination =   flight_config[\"inclination\"], # °\n",
    "          heading =       flight_config[\"heading\"],     # °\n",
    "          name = \"Forecast\"\n",
    "  )\n",
    "#flight_forecast.prints.out_of_rail_conditions()\n",
    "#flight_forecast.prints.apogee_conditions()\n",
    "#flight_forecast.prints.impact_conditions()\n",
    "#flight_forecast.prints.maximum_values()\n",
    "#flight_forecast.plots.trajectory_3d()\n",
    "#flight_forecast.plots.stability_and_control_data()\n",
    "flight_forecast.all_info()\n"
   ]
  },
  {
   "cell_type": "code",
   "execution_count": null,
   "metadata": {
    "colab": {
     "base_uri": "https://localhost:8080/",
     "height": 640
    },
    "executionInfo": {
     "elapsed": 10289,
     "status": "ok",
     "timestamp": 1739729288986,
     "user": {
      "displayName": "Diego Grünberger",
      "userId": "05610014897733337197"
     },
     "user_tz": -60
    },
    "id": "_OqPuIL82uge",
    "outputId": "58d040aa-9618-425c-ea23-61dd7a56097d"
   },
   "outputs": [],
   "source": [
    "# Helper class\n",
    "from rocketpy import Function\n",
    "import copy\n",
    "\n",
    "# Prepare a copy of the rocket\n",
    "hedy2 = copy.deepcopy(hedy)\n",
    "hedy2.motor.positioned_tanks.pop(-4)\n",
    "hedy2.motor.positioned_tanks.pop(-3)\n",
    "\n",
    "\n",
    "\n",
    "# Simulate Different Static Margins by Varying Fin Position\n",
    "simulation_results = []\n",
    "\n",
    "for factor in [0.7]:\n",
    "    # Modify rocket fin set by removing previous one and adding new one\n",
    "\n",
    "    lox_tank2 = lox_tank\n",
    "    lox_tank2.liquid_mass_flow_rate_out = 0.3\n",
    "\n",
    "    ethanol_tank2 = ethanol_tank\n",
    "    ethanol_tank2.liquid_mass_flow_rate_out = 0.3\n",
    "    skuld2 = LiquidMotor(\n",
    "        dry_mass = skuld.dry_mass,                  # kg\n",
    "        dry_inertia = (skuld.dry_I_11, skuld.dry_I_22, skuld.dry_I_33),              # kg*m^2\n",
    "        center_of_dry_mass_position = skuld.center_of_dry_mass_position,    # m\n",
    "\n",
    "        nozzle_radius = skuld.nozzle_radius, # m\n",
    "        nozzle_position = skuld.nozzle_position,  # m\n",
    "\n",
    "        thrust_source = skuld.thrust_source,       # N\n",
    "        burn_time = skuld.burn_time,                 # s\n",
    "        coordinate_system_orientation = skuld.coordinate_system_orientation\n",
    "    )\n",
    "    skuld2.add_tank(tank = lox_tank2,   \tposition =   motor_config[\"lox_tank\"][\"CG\"]                /1000)\n",
    "    skuld2.add_tank(tank = ethanol_tank2, position =   motor_config[\"ethanol_tank\"][\"CG\"]            /1000)\n",
    "    skuld2.add_tank(tank = nitrogen_tank, position =   motor_config[\"nitrogen_tank\"][\"CG_lox\"]       /1000)\n",
    "    skuld2.add_tank(tank = nitrogen_tank, position =   motor_config[\"nitrogen_tank\"][\"CG_ethanol\"]   /1000)\n",
    "\n",
    "    hedy2.add_motor(skuld2, position = 0)\n",
    "    # Simulate\n",
    "    test_flight = Flight(\n",
    "        rocket=hedy2,\n",
    "        environment=envForecast,\n",
    "        rail_length=5.2,\n",
    "        inclination=90,\n",
    "        heading=0\n",
    "    )\n",
    "\n",
    "    test_flight.prints.apogee_conditions()\n",
    "    # Store Results\n",
    "    static_margin_at_ignition = hedy2.static_margin(0)\n",
    "    static_margin_at_out_of_rail = hedy2.static_margin(test_flight.out_of_rail_time)\n",
    "    static_margin_at_steady_state = hedy2.static_margin(test_flight.t_final)\n",
    "    simulation_results += [\n",
    "        (\n",
    "            test_flight.attitude_angle,\n",
    "            \"{:1.2f} c | {:1.2f} c | {:1.2f} c\".format(\n",
    "                static_margin_at_ignition,\n",
    "                static_margin_at_out_of_rail,\n",
    "                static_margin_at_steady_state,\n",
    "            ),\n",
    "        )\n",
    "    ]\n",
    "\n",
    "Function.compare_plots(\n",
    "    simulation_results,\n",
    "    lower=0,\n",
    "    upper=1.5,\n",
    "    xlabel=\"Time (s)\",\n",
    "    ylabel=\"Attitude Angle (deg)\",\n",
    ")"
   ]
  },
  {
   "cell_type": "markdown",
   "metadata": {
    "id": "hbQVoT4nzg9I"
   },
   "source": [
    "# **Stochastic Calculations (Monte Carlo)**\n"
   ]
  },
  {
   "cell_type": "markdown",
   "metadata": {
    "id": "BrCgJJBSslgy"
   },
   "source": [
    "## Imports"
   ]
  },
  {
   "cell_type": "code",
   "execution_count": null,
   "metadata": {
    "id": "AS4pxz2IznqD"
   },
   "outputs": [],
   "source": [
    "from rocketpy.stochastic import (\n",
    "    StochasticEnvironment,\n",
    "    StochasticSolidMotor,\n",
    "    StochasticRocket,\n",
    "    StochasticFlight,\n",
    "    StochasticNoseCone,\n",
    "    StochasticTail,\n",
    "    StochasticTrapezoidalFins,\n",
    "    StochasticParachute,\n",
    "    StochasticRailButtons,\n",
    ")\n",
    "from rocketpy import MonteCarlo\n",
    "from rocketpy import Components"
   ]
  },
  {
   "cell_type": "markdown",
   "metadata": {
    "id": "HOq9NzkZso3x"
   },
   "source": [
    "## Stochastic environment"
   ]
  },
  {
   "cell_type": "code",
   "execution_count": null,
   "metadata": {
    "colab": {
     "base_uri": "https://localhost:8080/"
    },
    "executionInfo": {
     "elapsed": 16972,
     "status": "ok",
     "timestamp": 1728510631850,
     "user": {
      "displayName": "Diego Grünberger",
      "userId": "05610014897733337197"
     },
     "user_tz": -120
    },
    "id": "ldr030CLfGTe",
    "outputId": "ce48889d-2921-4da4-fd23-25362d44d72a"
   },
   "outputs": [
    {
     "name": "stdout",
     "output_type": "stream",
     "text": [
      "Fetching elevation from open-elevation.com for lat=39.12368, lon=-8.03333...\n",
      "Elevation received: 161.0 m\n"
     ]
    },
    {
     "name": "stderr",
     "output_type": "stream",
     "text": [
      "/usr/local/lib/python3.10/dist-packages/rocketpy/environment/tools.py:309: UserWarning: Exact chosen launch time is not available in the provided file, using 2024-10-11 12:00:00 UTC instead.\n",
      "  warnings.warn(\n"
     ]
    },
    {
     "name": "stdout",
     "output_type": "stream",
     "text": [
      "Reporting the attributes of the `StochasticEnvironment` object:\n",
      "\n",
      "Constant Attributes:\n",
      "\tdatum                    SIRGAS2000\n",
      "\televation                161.0\n",
      "\tgravity                  Function from R1 to R1 : (height (m)) → (gravity (m/s²))\n",
      "\tlatitude                 39.12368\n",
      "\tlongitude                -8.03333\n",
      "\ttimezone                 Europe/Lisbon\n",
      "\n",
      "Stochastic Attributes:\n",
      "\twind_velocity_x_factor   0.00000 ± 10.00000 (normal)\n",
      "\twind_velocity_y_factor   0.00000 ± 10.00000 (normal)\n",
      "\n",
      "Stochastic Attributes with choice of values:\n",
      "\tensemble_member [0, 1, 2, 3, 4, 5, 6, 7, 8, 9, 10, 11, 12, 13, 14, 15, 16, 17, 18, 19, 20, 21, 22, 23, 24, 25, 26, 27, 28, 29, 30]\n"
     ]
    }
   ],
   "source": [
    "envEnsemble = Environment()\n",
    "envEnsemble.set_location(latitude = env_config[\"latitude\"], longitude = env_config[\"longitude\"])\n",
    "envEnsemble.set_elevation(\"Open-Elevation\")\n",
    "envEnsemble.set_date((env_config[\"date\"]), timezone= env_config[\"timezone\"]) #Latest available date at time of simualtion\n",
    "envEnsemble.set_atmospheric_model(type = \"Ensemble\", file = \"GEFS\")\n",
    "\n",
    "\n",
    "stochastic_env = StochasticEnvironment(\n",
    "    environment = envEnsemble,\n",
    "    wind_velocity_x_factor = (0, 10, \"normal\"),\n",
    "    wind_velocity_y_factor = (0, 10, \"normal\"),\n",
    "\n",
    "    ensemble_member = list(range(envEnsemble.num_ensemble_members)),\n",
    ")\n",
    "stochastic_env.visualize_attributes()"
   ]
  },
  {
   "cell_type": "markdown",
   "metadata": {
    "id": "uy1Gp6O6srZ6"
   },
   "source": [
    "## Approximating the liquid motor"
   ]
  },
  {
   "cell_type": "code",
   "execution_count": null,
   "metadata": {
    "id": "lsMh2jMCsIv7"
   },
   "outputs": [],
   "source": [
    "grain_outer_radius = 0.05  # m\n",
    "grain_inner_radius = 0.01  # m\n",
    "grain_height = 0.1         # m\n",
    "\n",
    "approx_motor = SolidMotor(\n",
    "    thrust_source = skuld.thrust_source,\n",
    "    burn_time = skuld.burn_time,          # s\n",
    "    center_of_dry_mass_position = 0,      # m\n",
    "    dry_mass = skuld.dry_mass,            # kg\n",
    "    dry_inertia = [0, 0, 0],              # kg * m^2\n",
    "    grains_center_of_mass_position = CG,  # m\n",
    "    grain_number = 1,\n",
    "    grain_density = (lox_tank.fluid_mass(0) + ethanol_tank.fluid_mass(0)) / (((grain_outer_radius**2) * pi * grain_height) - ((grain_inner_radius**2) * pi * grain_height)), # kg / m^3\n",
    "    grain_outer_radius = grain_outer_radius,         # m\n",
    "    grain_initial_inner_radius = grain_inner_radius, # m\n",
    "    grain_initial_height = grain_height,             # m\n",
    "    grain_separation = 0,                     # m\n",
    "    nozzle_radius = skuld.nozzle_radius,      # m\n",
    "    nozzle_position = skuld.nozzle_position,  # m\n",
    "    throat_radius = skuld.nozzle_radius,      # m\n",
    "    reshape_thrust_curve = False,\n",
    "    coordinate_system_orientation = 'nozzle_to_combustion_chamber',\n",
    ")\n",
    "#approx_motor.all_info()"
   ]
  },
  {
   "cell_type": "markdown",
   "metadata": {
    "id": "KdWce4prswNi"
   },
   "source": [
    "## Stochastic rocket"
   ]
  },
  {
   "cell_type": "code",
   "execution_count": null,
   "metadata": {
    "id": "U2CNQKjKIyeV"
   },
   "outputs": [],
   "source": [
    "railbuttons = RailButtons(\n",
    "    buttons_distance = upper_railbutton_position-lower_railbutton_position\n",
    ")"
   ]
  },
  {
   "cell_type": "code",
   "execution_count": null,
   "metadata": {
    "colab": {
     "base_uri": "https://localhost:8080/"
    },
    "executionInfo": {
     "elapsed": 280,
     "status": "ok",
     "timestamp": 1728511010992,
     "user": {
      "displayName": "Diego Grünberger",
      "userId": "05610014897733337197"
     },
     "user_tz": -120
    },
    "id": "6-YbBMbCztQJ",
    "outputId": "aa42cab1-0bd8-402c-8959-c38646199c07"
   },
   "outputs": [
    {
     "name": "stdout",
     "output_type": "stream",
     "text": [
      "Reporting the attributes of the `StochasticRocket` object:\n",
      "\n",
      "Constant Attributes:\n",
      "\tI_11_without_motor              16.8\n",
      "\tI_12_without_motor              0\n",
      "\tI_13_without_motor              0\n",
      "\tI_22_without_motor              16.8\n",
      "\tI_23_without_motor              0\n",
      "\tI_33_without_motor              0.0255\n",
      "\tcenter_of_mass_without_motor    1.813\n",
      "\tcoordinate_system_orientation   tail_to_nose\n",
      "\tmass                            16.22207571\n",
      "\tpower_off_drag                  Function from R1 to R1 : (Mach Number) → (Drag Coefficient with Power Off)\n",
      "\tpower_on_drag                   Function from R1 to R1 : (Mach Number) → (Drag Coefficient with Power On)\n",
      "\tradius                          0.0664\n",
      "\n",
      "Stochastic Attributes:\n",
      "\tpower_off_drag_factor           1.00000 ± 0.00000 (normal)\n",
      "\tpower_on_drag_factor            1.00000 ± 0.00000 (normal)\n",
      "Reporting the attributes of the `StochasticFlight` object:\n",
      "\n",
      "Constant Attributes:\n",
      "\trail_length           11\n",
      "\n",
      "Stochastic Attributes:\n",
      "\theading               113.00000 ± 2.00000 (normal)\n",
      "\tinclination           84.00000 ± 1.00000 (normal)\n",
      "The following input file was imported: monte_carlo_class_example.inputs.txt\n",
      "A total of 0 simulations results were loaded from the following output file: monte_carlo_class_example.outputs.txt\n",
      "\n",
      "The following error file was imported: monte_carlo_class_example.errors.txt\n"
     ]
    }
   ],
   "source": [
    "hedy.aerodynamic_surfaces = Components()\n",
    "hedy.add_surfaces(surfaces=[nose_cone, trapezoidal_fin_set, tail], positions=[rocket_length, fin_position, tailcone_length])\n",
    "\n",
    "stochastic_rocket = StochasticRocket(\n",
    "    rocket = hedy,\n",
    ")\n",
    "\n",
    "stochastic_nose_cone = StochasticNoseCone(\n",
    "    nosecone = nose_cone\n",
    ")\n",
    "\n",
    "stochastic_fin_set = StochasticTrapezoidalFins(\n",
    "    trapezoidal_fins = trapezoidal_fin_set,\n",
    ")\n",
    "\n",
    "stochastic_tail = StochasticTail(\n",
    "    tail = tail\n",
    ")\n",
    "\n",
    "stochastic_rail_buttons = StochasticRailButtons(\n",
    "    rail_buttons = railbuttons\n",
    ")\n",
    "\n",
    "stochastic_main = StochasticParachute(\n",
    "    parachute = parachutes[0]\n",
    ")\n",
    "\n",
    "stochastic_drogue = StochasticParachute(\n",
    "    parachute = parachutes[1]\n",
    ")\n",
    "\n",
    "stochastic_motor = StochasticSolidMotor(\n",
    "    solid_motor = approx_motor\n",
    ")\n",
    "\n",
    "stochastic_rocket.add_nose(stochastic_nose_cone)\n",
    "stochastic_rocket.add_trapezoidal_fins(stochastic_fin_set)\n",
    "stochastic_rocket.add_tail(stochastic_tail)\n",
    "stochastic_rocket.add_parachute(stochastic_main)\n",
    "stochastic_rocket.add_parachute(stochastic_drogue)\n",
    "stochastic_rocket.add_motor(stochastic_motor)\n",
    "\n",
    "stochastic_rocket.visualize_attributes()\n",
    "\n",
    "\n",
    "stochastic_flight = StochasticFlight(\n",
    "    flight = flight,\n",
    "    inclination=(flight_config[\"inclination\"], 1),\n",
    "    heading=(flight_config[\"heading\"], 2)\n",
    ")\n",
    "\n",
    "stochastic_flight.visualize_attributes()\n",
    "\n",
    "\n",
    "\n",
    "test_dispersion = MonteCarlo(\n",
    "    filename = \"monte_carlo_class_example\",\n",
    "    environment = stochastic_env,\n",
    "    rocket = stochastic_rocket,\n",
    "    flight = stochastic_flight\n",
    ")"
   ]
  },
  {
   "cell_type": "markdown",
   "metadata": {
    "id": "B2_6rKRUs4eh"
   },
   "source": [
    "## Simulation"
   ]
  },
  {
   "cell_type": "code",
   "execution_count": null,
   "metadata": {
    "colab": {
     "base_uri": "https://localhost:8080/",
     "height": 1000
    },
    "executionInfo": {
     "elapsed": 1557,
     "status": "error",
     "timestamp": 1728511023476,
     "user": {
      "displayName": "Diego Grünberger",
      "userId": "05610014897733337197"
     },
     "user_tz": -120
    },
    "id": "HNeyqHhqFTjy",
    "outputId": "cc271d60-fa0a-4293-f589-c81cdcb66853"
   },
   "outputs": [
    {
     "name": "stdout",
     "output_type": "stream",
     "text": [
      "Starting Monte Carlo analysis\rError on iteration 1: Object of type Vector is not JSON serializable\n"
     ]
    },
    {
     "ename": "TypeError",
     "evalue": "Object of type Vector is not JSON serializable",
     "output_type": "error",
     "traceback": [
      "\u001b[0;31m---------------------------------------------------------------------------\u001b[0m",
      "\u001b[0;31mTypeError\u001b[0m                                 Traceback (most recent call last)",
      "\u001b[0;32m/usr/local/lib/python3.10/dist-packages/rocketpy/simulation/monte_carlo.py\u001b[0m in \u001b[0;36msimulate\u001b[0;34m(self, number_of_simulations, append)\u001b[0m\n\u001b[1;32m    200\u001b[0m             \u001b[0;32mwhile\u001b[0m \u001b[0mself\u001b[0m\u001b[0;34m.\u001b[0m\u001b[0m__iteration_count\u001b[0m \u001b[0;34m<\u001b[0m \u001b[0mself\u001b[0m\u001b[0;34m.\u001b[0m\u001b[0mnumber_of_simulations\u001b[0m\u001b[0;34m:\u001b[0m\u001b[0;34m\u001b[0m\u001b[0;34m\u001b[0m\u001b[0m\n\u001b[0;32m--> 201\u001b[0;31m                 \u001b[0mself\u001b[0m\u001b[0;34m.\u001b[0m\u001b[0m__run_single_simulation\u001b[0m\u001b[0;34m(\u001b[0m\u001b[0minput_file\u001b[0m\u001b[0;34m,\u001b[0m \u001b[0moutput_file\u001b[0m\u001b[0;34m)\u001b[0m\u001b[0;34m\u001b[0m\u001b[0;34m\u001b[0m\u001b[0m\n\u001b[0m\u001b[1;32m    202\u001b[0m         \u001b[0;32mexcept\u001b[0m \u001b[0mKeyboardInterrupt\u001b[0m\u001b[0;34m:\u001b[0m\u001b[0;34m\u001b[0m\u001b[0;34m\u001b[0m\u001b[0m\n",
      "\u001b[0;32m/usr/local/lib/python3.10/dist-packages/rocketpy/simulation/monte_carlo.py\u001b[0m in \u001b[0;36m__run_single_simulation\u001b[0;34m(self, input_file, output_file)\u001b[0m\n\u001b[1;32m    256\u001b[0m \u001b[0;34m\u001b[0m\u001b[0m\n\u001b[0;32m--> 257\u001b[0;31m         self.__export_flight_data(\n\u001b[0m\u001b[1;32m    258\u001b[0m             \u001b[0mflight\u001b[0m\u001b[0;34m=\u001b[0m\u001b[0mmonte_carlo_flight\u001b[0m\u001b[0;34m,\u001b[0m\u001b[0;34m\u001b[0m\u001b[0;34m\u001b[0m\u001b[0m\n",
      "\u001b[0;32m/usr/local/lib/python3.10/dist-packages/rocketpy/simulation/monte_carlo.py\u001b[0m in \u001b[0;36m__export_flight_data\u001b[0;34m(self, flight, inputs_dict, input_file, output_file)\u001b[0m\n\u001b[1;32m    361\u001b[0m \u001b[0;34m\u001b[0m\u001b[0m\n\u001b[0;32m--> 362\u001b[0;31m         \u001b[0minput_file\u001b[0m\u001b[0;34m.\u001b[0m\u001b[0mwrite\u001b[0m\u001b[0;34m(\u001b[0m\u001b[0mjson\u001b[0m\u001b[0;34m.\u001b[0m\u001b[0mdumps\u001b[0m\u001b[0;34m(\u001b[0m\u001b[0minputs_dict\u001b[0m\u001b[0;34m,\u001b[0m \u001b[0mcls\u001b[0m\u001b[0;34m=\u001b[0m\u001b[0mRocketPyEncoder\u001b[0m\u001b[0;34m)\u001b[0m \u001b[0;34m+\u001b[0m \u001b[0;34m\"\\n\"\u001b[0m\u001b[0;34m)\u001b[0m\u001b[0;34m\u001b[0m\u001b[0;34m\u001b[0m\u001b[0m\n\u001b[0m\u001b[1;32m    363\u001b[0m         \u001b[0moutput_file\u001b[0m\u001b[0;34m.\u001b[0m\u001b[0mwrite\u001b[0m\u001b[0;34m(\u001b[0m\u001b[0mjson\u001b[0m\u001b[0;34m.\u001b[0m\u001b[0mdumps\u001b[0m\u001b[0;34m(\u001b[0m\u001b[0mresults\u001b[0m\u001b[0;34m,\u001b[0m \u001b[0mcls\u001b[0m\u001b[0;34m=\u001b[0m\u001b[0mRocketPyEncoder\u001b[0m\u001b[0;34m)\u001b[0m \u001b[0;34m+\u001b[0m \u001b[0;34m\"\\n\"\u001b[0m\u001b[0;34m)\u001b[0m\u001b[0;34m\u001b[0m\u001b[0;34m\u001b[0m\u001b[0m\n",
      "\u001b[0;32m/usr/lib/python3.10/json/__init__.py\u001b[0m in \u001b[0;36mdumps\u001b[0;34m(obj, skipkeys, ensure_ascii, check_circular, allow_nan, cls, indent, separators, default, sort_keys, **kw)\u001b[0m\n\u001b[1;32m    237\u001b[0m         \u001b[0mseparators\u001b[0m\u001b[0;34m=\u001b[0m\u001b[0mseparators\u001b[0m\u001b[0;34m,\u001b[0m \u001b[0mdefault\u001b[0m\u001b[0;34m=\u001b[0m\u001b[0mdefault\u001b[0m\u001b[0;34m,\u001b[0m \u001b[0msort_keys\u001b[0m\u001b[0;34m=\u001b[0m\u001b[0msort_keys\u001b[0m\u001b[0;34m,\u001b[0m\u001b[0;34m\u001b[0m\u001b[0;34m\u001b[0m\u001b[0m\n\u001b[0;32m--> 238\u001b[0;31m         **kw).encode(obj)\n\u001b[0m\u001b[1;32m    239\u001b[0m \u001b[0;34m\u001b[0m\u001b[0m\n",
      "\u001b[0;32m/usr/lib/python3.10/json/encoder.py\u001b[0m in \u001b[0;36mencode\u001b[0;34m(self, o)\u001b[0m\n\u001b[1;32m    198\u001b[0m         \u001b[0;31m# equivalent to the PySequence_Fast that ''.join() would do.\u001b[0m\u001b[0;34m\u001b[0m\u001b[0;34m\u001b[0m\u001b[0m\n\u001b[0;32m--> 199\u001b[0;31m         \u001b[0mchunks\u001b[0m \u001b[0;34m=\u001b[0m \u001b[0mself\u001b[0m\u001b[0;34m.\u001b[0m\u001b[0miterencode\u001b[0m\u001b[0;34m(\u001b[0m\u001b[0mo\u001b[0m\u001b[0;34m,\u001b[0m \u001b[0m_one_shot\u001b[0m\u001b[0;34m=\u001b[0m\u001b[0;32mTrue\u001b[0m\u001b[0;34m)\u001b[0m\u001b[0;34m\u001b[0m\u001b[0;34m\u001b[0m\u001b[0m\n\u001b[0m\u001b[1;32m    200\u001b[0m         \u001b[0;32mif\u001b[0m \u001b[0;32mnot\u001b[0m \u001b[0misinstance\u001b[0m\u001b[0;34m(\u001b[0m\u001b[0mchunks\u001b[0m\u001b[0;34m,\u001b[0m \u001b[0;34m(\u001b[0m\u001b[0mlist\u001b[0m\u001b[0;34m,\u001b[0m \u001b[0mtuple\u001b[0m\u001b[0;34m)\u001b[0m\u001b[0;34m)\u001b[0m\u001b[0;34m:\u001b[0m\u001b[0;34m\u001b[0m\u001b[0;34m\u001b[0m\u001b[0m\n",
      "\u001b[0;32m/usr/lib/python3.10/json/encoder.py\u001b[0m in \u001b[0;36miterencode\u001b[0;34m(self, o, _one_shot)\u001b[0m\n\u001b[1;32m    256\u001b[0m                 self.skipkeys, _one_shot)\n\u001b[0;32m--> 257\u001b[0;31m         \u001b[0;32mreturn\u001b[0m \u001b[0m_iterencode\u001b[0m\u001b[0;34m(\u001b[0m\u001b[0mo\u001b[0m\u001b[0;34m,\u001b[0m \u001b[0;36m0\u001b[0m\u001b[0;34m)\u001b[0m\u001b[0;34m\u001b[0m\u001b[0;34m\u001b[0m\u001b[0m\n\u001b[0m\u001b[1;32m    258\u001b[0m \u001b[0;34m\u001b[0m\u001b[0m\n",
      "\u001b[0;32m/usr/local/lib/python3.10/dist-packages/rocketpy/_encoders.py\u001b[0m in \u001b[0;36mdefault\u001b[0;34m(self, o)\u001b[0m\n\u001b[1;32m     42\u001b[0m         \u001b[0;32melse\u001b[0m\u001b[0;34m:\u001b[0m\u001b[0;34m\u001b[0m\u001b[0;34m\u001b[0m\u001b[0m\n\u001b[0;32m---> 43\u001b[0;31m             \u001b[0;32mreturn\u001b[0m \u001b[0mjson\u001b[0m\u001b[0;34m.\u001b[0m\u001b[0mJSONEncoder\u001b[0m\u001b[0;34m.\u001b[0m\u001b[0mdefault\u001b[0m\u001b[0;34m(\u001b[0m\u001b[0mself\u001b[0m\u001b[0;34m,\u001b[0m \u001b[0mo\u001b[0m\u001b[0;34m)\u001b[0m\u001b[0;34m\u001b[0m\u001b[0;34m\u001b[0m\u001b[0m\n\u001b[0m",
      "\u001b[0;32m/usr/lib/python3.10/json/encoder.py\u001b[0m in \u001b[0;36mdefault\u001b[0;34m(self, o)\u001b[0m\n\u001b[1;32m    178\u001b[0m         \"\"\"\n\u001b[0;32m--> 179\u001b[0;31m         raise TypeError(f'Object of type {o.__class__.__name__} '\n\u001b[0m\u001b[1;32m    180\u001b[0m                         f'is not JSON serializable')\n",
      "\u001b[0;31mTypeError\u001b[0m: Object of type Vector is not JSON serializable",
      "\nDuring handling of the above exception, another exception occurred:\n",
      "\u001b[0;31mTypeError\u001b[0m                                 Traceback (most recent call last)",
      "\u001b[0;32m<ipython-input-70-650c85b853f3>\u001b[0m in \u001b[0;36m<cell line: 1>\u001b[0;34m()\u001b[0m\n\u001b[0;32m----> 1\u001b[0;31m \u001b[0mtest_dispersion\u001b[0m\u001b[0;34m.\u001b[0m\u001b[0msimulate\u001b[0m\u001b[0;34m(\u001b[0m\u001b[0mnumber_of_simulations\u001b[0m \u001b[0;34m=\u001b[0m \u001b[0;36m100\u001b[0m\u001b[0;34m,\u001b[0m \u001b[0mappend\u001b[0m \u001b[0;34m=\u001b[0m \u001b[0;32mFalse\u001b[0m\u001b[0;34m)\u001b[0m\u001b[0;34m\u001b[0m\u001b[0;34m\u001b[0m\u001b[0m\n\u001b[0m\u001b[1;32m      2\u001b[0m \u001b[0;34m\u001b[0m\u001b[0m\n\u001b[1;32m      3\u001b[0m \u001b[0mprint\u001b[0m\u001b[0;34m(\u001b[0m\u001b[0;34m)\u001b[0m\u001b[0;34m\u001b[0m\u001b[0;34m\u001b[0m\u001b[0m\n\u001b[1;32m      4\u001b[0m \u001b[0mprint\u001b[0m\u001b[0;34m(\u001b[0m\u001b[0;34m)\u001b[0m\u001b[0;34m\u001b[0m\u001b[0;34m\u001b[0m\u001b[0m\n\u001b[1;32m      5\u001b[0m \u001b[0mprint\u001b[0m\u001b[0;34m(\u001b[0m\u001b[0;34m)\u001b[0m\u001b[0;34m\u001b[0m\u001b[0;34m\u001b[0m\u001b[0m\n",
      "\u001b[0;32m/usr/local/lib/python3.10/dist-packages/rocketpy/simulation/monte_carlo.py\u001b[0m in \u001b[0;36msimulate\u001b[0;34m(self, number_of_simulations, append)\u001b[0m\n\u001b[1;32m    206\u001b[0m         \u001b[0;32mexcept\u001b[0m \u001b[0mException\u001b[0m \u001b[0;32mas\u001b[0m \u001b[0merror\u001b[0m\u001b[0;34m:\u001b[0m\u001b[0;34m\u001b[0m\u001b[0;34m\u001b[0m\u001b[0m\n\u001b[1;32m    207\u001b[0m             \u001b[0mprint\u001b[0m\u001b[0;34m(\u001b[0m\u001b[0;34mf\"Error on iteration {self.__iteration_count}: {error}\"\u001b[0m\u001b[0;34m)\u001b[0m\u001b[0;34m\u001b[0m\u001b[0;34m\u001b[0m\u001b[0m\n\u001b[0;32m--> 208\u001b[0;31m             \u001b[0merror_file\u001b[0m\u001b[0;34m.\u001b[0m\u001b[0mwrite\u001b[0m\u001b[0;34m(\u001b[0m\u001b[0mjson\u001b[0m\u001b[0;34m.\u001b[0m\u001b[0mdumps\u001b[0m\u001b[0;34m(\u001b[0m\u001b[0mself\u001b[0m\u001b[0;34m.\u001b[0m\u001b[0m_inputs_dict\u001b[0m\u001b[0;34m,\u001b[0m \u001b[0mcls\u001b[0m\u001b[0;34m=\u001b[0m\u001b[0mRocketPyEncoder\u001b[0m\u001b[0;34m)\u001b[0m \u001b[0;34m+\u001b[0m \u001b[0;34m\"\\n\"\u001b[0m\u001b[0;34m)\u001b[0m\u001b[0;34m\u001b[0m\u001b[0;34m\u001b[0m\u001b[0m\n\u001b[0m\u001b[1;32m    209\u001b[0m             \u001b[0mself\u001b[0m\u001b[0;34m.\u001b[0m\u001b[0m__close_files\u001b[0m\u001b[0;34m(\u001b[0m\u001b[0minput_file\u001b[0m\u001b[0;34m,\u001b[0m \u001b[0moutput_file\u001b[0m\u001b[0;34m,\u001b[0m \u001b[0merror_file\u001b[0m\u001b[0;34m)\u001b[0m\u001b[0;34m\u001b[0m\u001b[0;34m\u001b[0m\u001b[0m\n\u001b[1;32m    210\u001b[0m             \u001b[0;32mraise\u001b[0m \u001b[0merror\u001b[0m\u001b[0;34m\u001b[0m\u001b[0;34m\u001b[0m\u001b[0m\n",
      "\u001b[0;32m/usr/lib/python3.10/json/__init__.py\u001b[0m in \u001b[0;36mdumps\u001b[0;34m(obj, skipkeys, ensure_ascii, check_circular, allow_nan, cls, indent, separators, default, sort_keys, **kw)\u001b[0m\n\u001b[1;32m    236\u001b[0m         \u001b[0mcheck_circular\u001b[0m\u001b[0;34m=\u001b[0m\u001b[0mcheck_circular\u001b[0m\u001b[0;34m,\u001b[0m \u001b[0mallow_nan\u001b[0m\u001b[0;34m=\u001b[0m\u001b[0mallow_nan\u001b[0m\u001b[0;34m,\u001b[0m \u001b[0mindent\u001b[0m\u001b[0;34m=\u001b[0m\u001b[0mindent\u001b[0m\u001b[0;34m,\u001b[0m\u001b[0;34m\u001b[0m\u001b[0;34m\u001b[0m\u001b[0m\n\u001b[1;32m    237\u001b[0m         \u001b[0mseparators\u001b[0m\u001b[0;34m=\u001b[0m\u001b[0mseparators\u001b[0m\u001b[0;34m,\u001b[0m \u001b[0mdefault\u001b[0m\u001b[0;34m=\u001b[0m\u001b[0mdefault\u001b[0m\u001b[0;34m,\u001b[0m \u001b[0msort_keys\u001b[0m\u001b[0;34m=\u001b[0m\u001b[0msort_keys\u001b[0m\u001b[0;34m,\u001b[0m\u001b[0;34m\u001b[0m\u001b[0;34m\u001b[0m\u001b[0m\n\u001b[0;32m--> 238\u001b[0;31m         **kw).encode(obj)\n\u001b[0m\u001b[1;32m    239\u001b[0m \u001b[0;34m\u001b[0m\u001b[0m\n\u001b[1;32m    240\u001b[0m \u001b[0;34m\u001b[0m\u001b[0m\n",
      "\u001b[0;32m/usr/lib/python3.10/json/encoder.py\u001b[0m in \u001b[0;36mencode\u001b[0;34m(self, o)\u001b[0m\n\u001b[1;32m    197\u001b[0m         \u001b[0;31m# exceptions aren't as detailed.  The list call should be roughly\u001b[0m\u001b[0;34m\u001b[0m\u001b[0;34m\u001b[0m\u001b[0m\n\u001b[1;32m    198\u001b[0m         \u001b[0;31m# equivalent to the PySequence_Fast that ''.join() would do.\u001b[0m\u001b[0;34m\u001b[0m\u001b[0;34m\u001b[0m\u001b[0m\n\u001b[0;32m--> 199\u001b[0;31m         \u001b[0mchunks\u001b[0m \u001b[0;34m=\u001b[0m \u001b[0mself\u001b[0m\u001b[0;34m.\u001b[0m\u001b[0miterencode\u001b[0m\u001b[0;34m(\u001b[0m\u001b[0mo\u001b[0m\u001b[0;34m,\u001b[0m \u001b[0m_one_shot\u001b[0m\u001b[0;34m=\u001b[0m\u001b[0;32mTrue\u001b[0m\u001b[0;34m)\u001b[0m\u001b[0;34m\u001b[0m\u001b[0;34m\u001b[0m\u001b[0m\n\u001b[0m\u001b[1;32m    200\u001b[0m         \u001b[0;32mif\u001b[0m \u001b[0;32mnot\u001b[0m \u001b[0misinstance\u001b[0m\u001b[0;34m(\u001b[0m\u001b[0mchunks\u001b[0m\u001b[0;34m,\u001b[0m \u001b[0;34m(\u001b[0m\u001b[0mlist\u001b[0m\u001b[0;34m,\u001b[0m \u001b[0mtuple\u001b[0m\u001b[0;34m)\u001b[0m\u001b[0;34m)\u001b[0m\u001b[0;34m:\u001b[0m\u001b[0;34m\u001b[0m\u001b[0;34m\u001b[0m\u001b[0m\n\u001b[1;32m    201\u001b[0m             \u001b[0mchunks\u001b[0m \u001b[0;34m=\u001b[0m \u001b[0mlist\u001b[0m\u001b[0;34m(\u001b[0m\u001b[0mchunks\u001b[0m\u001b[0;34m)\u001b[0m\u001b[0;34m\u001b[0m\u001b[0;34m\u001b[0m\u001b[0m\n",
      "\u001b[0;32m/usr/lib/python3.10/json/encoder.py\u001b[0m in \u001b[0;36miterencode\u001b[0;34m(self, o, _one_shot)\u001b[0m\n\u001b[1;32m    255\u001b[0m                 \u001b[0mself\u001b[0m\u001b[0;34m.\u001b[0m\u001b[0mkey_separator\u001b[0m\u001b[0;34m,\u001b[0m \u001b[0mself\u001b[0m\u001b[0;34m.\u001b[0m\u001b[0mitem_separator\u001b[0m\u001b[0;34m,\u001b[0m \u001b[0mself\u001b[0m\u001b[0;34m.\u001b[0m\u001b[0msort_keys\u001b[0m\u001b[0;34m,\u001b[0m\u001b[0;34m\u001b[0m\u001b[0;34m\u001b[0m\u001b[0m\n\u001b[1;32m    256\u001b[0m                 self.skipkeys, _one_shot)\n\u001b[0;32m--> 257\u001b[0;31m         \u001b[0;32mreturn\u001b[0m \u001b[0m_iterencode\u001b[0m\u001b[0;34m(\u001b[0m\u001b[0mo\u001b[0m\u001b[0;34m,\u001b[0m \u001b[0;36m0\u001b[0m\u001b[0;34m)\u001b[0m\u001b[0;34m\u001b[0m\u001b[0;34m\u001b[0m\u001b[0m\n\u001b[0m\u001b[1;32m    258\u001b[0m \u001b[0;34m\u001b[0m\u001b[0m\n\u001b[1;32m    259\u001b[0m def _make_iterencode(markers, _default, _encoder, _indent, _floatstr,\n",
      "\u001b[0;32m/usr/local/lib/python3.10/dist-packages/rocketpy/_encoders.py\u001b[0m in \u001b[0;36mdefault\u001b[0;34m(self, o)\u001b[0m\n\u001b[1;32m     41\u001b[0m             \u001b[0;32mreturn\u001b[0m \u001b[0mrepr\u001b[0m\u001b[0;34m(\u001b[0m\u001b[0mo\u001b[0m\u001b[0;34m)\u001b[0m\u001b[0;34m\u001b[0m\u001b[0;34m\u001b[0m\u001b[0m\n\u001b[1;32m     42\u001b[0m         \u001b[0;32melse\u001b[0m\u001b[0;34m:\u001b[0m\u001b[0;34m\u001b[0m\u001b[0;34m\u001b[0m\u001b[0m\n\u001b[0;32m---> 43\u001b[0;31m             \u001b[0;32mreturn\u001b[0m \u001b[0mjson\u001b[0m\u001b[0;34m.\u001b[0m\u001b[0mJSONEncoder\u001b[0m\u001b[0;34m.\u001b[0m\u001b[0mdefault\u001b[0m\u001b[0;34m(\u001b[0m\u001b[0mself\u001b[0m\u001b[0;34m,\u001b[0m \u001b[0mo\u001b[0m\u001b[0;34m)\u001b[0m\u001b[0;34m\u001b[0m\u001b[0;34m\u001b[0m\u001b[0m\n\u001b[0m",
      "\u001b[0;32m/usr/lib/python3.10/json/encoder.py\u001b[0m in \u001b[0;36mdefault\u001b[0;34m(self, o)\u001b[0m\n\u001b[1;32m    177\u001b[0m \u001b[0;34m\u001b[0m\u001b[0m\n\u001b[1;32m    178\u001b[0m         \"\"\"\n\u001b[0;32m--> 179\u001b[0;31m         raise TypeError(f'Object of type {o.__class__.__name__} '\n\u001b[0m\u001b[1;32m    180\u001b[0m                         f'is not JSON serializable')\n\u001b[1;32m    181\u001b[0m \u001b[0;34m\u001b[0m\u001b[0m\n",
      "\u001b[0;31mTypeError\u001b[0m: Object of type Vector is not JSON serializable"
     ]
    }
   ],
   "source": [
    "test_dispersion.simulate(number_of_simulations = 100, append = False)\n",
    "\n",
    "print()\n",
    "print()\n",
    "print()\n",
    "print()\n",
    "print()\n",
    "print()\n",
    "print()\n",
    "print()\n",
    "print(\"//////////////////////////////////////////////////\")\n",
    "print(\"//                 FINISHED                     //\")\n",
    "print(\"//////////////////////////////////////////////////\")"
   ]
  },
  {
   "cell_type": "markdown",
   "metadata": {
    "id": "sUhDUBEys9DZ"
   },
   "source": [
    "## Outputs"
   ]
  },
  {
   "cell_type": "code",
   "execution_count": null,
   "metadata": {
    "id": "yBcbHerMoSsQ"
   },
   "outputs": [],
   "source": [
    "print(test_dispersion.num_of_loaded_sims)\n",
    "test_dispersion.prints.all()\n",
    "test_dispersion.plots.ellipses(xlim = (-2000, 4000), ylim = (-2000, 4000))"
   ]
  }
 ],
 "metadata": {
  "colab": {
   "collapsed_sections": [
    "hbQVoT4nzg9I"
   ],
   "provenance": [],
   "toc_visible": true
  },
  "kernelspec": {
   "display_name": ".venv",
   "language": "python",
   "name": "python3"
  },
  "language_info": {
   "codemirror_mode": {
    "name": "ipython",
    "version": 3
   },
   "file_extension": ".py",
   "mimetype": "text/x-python",
   "name": "python",
   "nbconvert_exporter": "python",
   "pygments_lexer": "ipython3",
   "version": "3.12.3"
  }
 },
 "nbformat": 4,
 "nbformat_minor": 0
}
